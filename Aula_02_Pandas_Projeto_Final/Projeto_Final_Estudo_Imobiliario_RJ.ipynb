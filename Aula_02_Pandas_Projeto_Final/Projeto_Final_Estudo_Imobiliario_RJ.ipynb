{
 "cells": [
  {
   "cell_type": "markdown",
   "id": "5629ace6",
   "metadata": {},
   "source": [
    "# Python Pandas  - Análise dos Dados imobiliarios\n"
   ]
  },
  {
   "cell_type": "markdown",
   "id": "94dc5594",
   "metadata": {},
   "source": [
    "Este é uma das materias para a formação de Cientista de Dados da Escola Alura.\n",
    "\n",
    " Python Pandas tem o foco em tratamento e análise de dados\n",
    " \n",
    " Este projeto final é exercicio prático do conteudo aprendido."
   ]
  },
  {
   "cell_type": "markdown",
   "id": "3e4dc12f",
   "metadata": {},
   "source": [
    "# Tratamento dos Dados."
   ]
  },
  {
   "cell_type": "markdown",
   "id": "9f40d5de",
   "metadata": {},
   "source": [
    "## Importando as Bibliotecas"
   ]
  },
  {
   "cell_type": "code",
   "execution_count": 1,
   "id": "b7647a2c",
   "metadata": {},
   "outputs": [],
   "source": [
    "import pandas as pd\n",
    "import numpy as np\n",
    "import seaborn as sns\n",
    "sns.set()\n",
    "\n",
    "import matplotlib.pyplot as plt\n",
    "%matplotlib inline\n",
    "plt.rc('figure',figsize=(8,5))\n",
    "\n",
    "import warnings \n",
    "warnings.filterwarnings('ignore')"
   ]
  },
  {
   "cell_type": "markdown",
   "id": "1d55d5af",
   "metadata": {},
   "source": [
    "##  Importando Base de Dados"
   ]
  },
  {
   "cell_type": "code",
   "execution_count": 2,
   "id": "fc15cafe",
   "metadata": {},
   "outputs": [],
   "source": [
    "dados = pd.read_csv('Dados/aluguel.csv',sep=';')"
   ]
  },
  {
   "cell_type": "markdown",
   "id": "e6b810b9",
   "metadata": {},
   "source": [
    "## Informações Gerais\n",
    "\n",
    "Conhecendo a base de dados"
   ]
  },
  {
   "cell_type": "code",
   "execution_count": 3,
   "id": "eb34db16",
   "metadata": {
    "scrolled": true
   },
   "outputs": [
    {
     "data": {
      "text/html": [
       "<div>\n",
       "<style scoped>\n",
       "    .dataframe tbody tr th:only-of-type {\n",
       "        vertical-align: middle;\n",
       "    }\n",
       "\n",
       "    .dataframe tbody tr th {\n",
       "        vertical-align: top;\n",
       "    }\n",
       "\n",
       "    .dataframe thead th {\n",
       "        text-align: right;\n",
       "    }\n",
       "</style>\n",
       "<table border=\"1\" class=\"dataframe\">\n",
       "  <thead>\n",
       "    <tr style=\"text-align: right;\">\n",
       "      <th>variaveis</th>\n",
       "      <th>tipo_dado</th>\n",
       "    </tr>\n",
       "  </thead>\n",
       "  <tbody>\n",
       "    <tr>\n",
       "      <th>Tipo</th>\n",
       "      <td>object</td>\n",
       "    </tr>\n",
       "    <tr>\n",
       "      <th>Bairro</th>\n",
       "      <td>object</td>\n",
       "    </tr>\n",
       "    <tr>\n",
       "      <th>Quartos</th>\n",
       "      <td>int64</td>\n",
       "    </tr>\n",
       "    <tr>\n",
       "      <th>Vagas</th>\n",
       "      <td>int64</td>\n",
       "    </tr>\n",
       "    <tr>\n",
       "      <th>Suites</th>\n",
       "      <td>int64</td>\n",
       "    </tr>\n",
       "    <tr>\n",
       "      <th>Area</th>\n",
       "      <td>int64</td>\n",
       "    </tr>\n",
       "    <tr>\n",
       "      <th>Valor</th>\n",
       "      <td>float64</td>\n",
       "    </tr>\n",
       "    <tr>\n",
       "      <th>Condominio</th>\n",
       "      <td>float64</td>\n",
       "    </tr>\n",
       "    <tr>\n",
       "      <th>IPTU</th>\n",
       "      <td>float64</td>\n",
       "    </tr>\n",
       "  </tbody>\n",
       "</table>\n",
       "</div>"
      ],
      "text/plain": [
       "variaveis  tipo_dado\n",
       "Tipo          object\n",
       "Bairro        object\n",
       "Quartos        int64\n",
       "Vagas          int64\n",
       "Suites         int64\n",
       "Area           int64\n",
       "Valor        float64\n",
       "Condominio   float64\n",
       "IPTU         float64"
      ]
     },
     "execution_count": 3,
     "metadata": {},
     "output_type": "execute_result"
    }
   ],
   "source": [
    "# Analisando o tipo de dados das variaveis\n",
    "\n",
    "tipo_de_dados = pd.DataFrame(dados.dtypes,columns=['tipo_dado'])\n",
    "tipo_de_dados.columns.name='variaveis'\n",
    "tipo_de_dados"
   ]
  },
  {
   "cell_type": "markdown",
   "id": "945dcf2a",
   "metadata": {},
   "source": [
    "### Formato\n",
    "\n",
    "- No tipo de dados já estão com o formato correto, não é necessário alterar.\n"
   ]
  },
  {
   "cell_type": "markdown",
   "id": "f8a129d4",
   "metadata": {},
   "source": [
    "## Analisando os Tipos de imóveis"
   ]
  },
  {
   "cell_type": "code",
   "execution_count": 4,
   "id": "02c63018",
   "metadata": {},
   "outputs": [
    {
     "data": {
      "text/plain": [
       "['Quitinete',\n",
       " 'Casa',\n",
       " 'Conjunto Comercial/Sala',\n",
       " 'Apartamento',\n",
       " 'Casa de Condomínio',\n",
       " 'Prédio Inteiro',\n",
       " 'Flat',\n",
       " 'Loja/Salão',\n",
       " 'Galpão/Depósito/Armazém',\n",
       " 'Casa Comercial',\n",
       " 'Casa de Vila',\n",
       " 'Terreno Padrão',\n",
       " 'Box/Garagem',\n",
       " 'Loft',\n",
       " 'Loja Shopping/ Ct Comercial',\n",
       " 'Chácara',\n",
       " 'Loteamento/Condomínio',\n",
       " 'Sítio',\n",
       " 'Pousada/Chalé',\n",
       " 'Studio',\n",
       " 'Hotel',\n",
       " 'Indústria']"
      ]
     },
     "execution_count": 4,
     "metadata": {},
     "output_type": "execute_result"
    }
   ],
   "source": [
    "list(dados.Tipo.unique())"
   ]
  },
  {
   "cell_type": "markdown",
   "id": "18964bbc",
   "metadata": {},
   "source": [
    "### Tipo de Imóveis\n",
    "\n",
    "Na base de dados, existem imoveis residenciais misturados com outros tipos.\n",
    "\n",
    "Será selecionado para estudo apenas os residenciais."
   ]
  },
  {
   "cell_type": "code",
   "execution_count": 5,
   "id": "51bce6f5",
   "metadata": {},
   "outputs": [],
   "source": [
    "lista_residencial = ['Quitinete','Casa','Apartamento','Casa de Condomínio','Flat','Casa de Vila']"
   ]
  },
  {
   "cell_type": "code",
   "execution_count": 6,
   "id": "4e23ccd6",
   "metadata": {},
   "outputs": [],
   "source": [
    "selecao = dados['Tipo'].isin(lista_residencial)\n",
    "\n",
    "df_aluguel = dados[selecao]\n",
    "df_aluguel.index=range(df_aluguel.shape[0]) # organizando as linhas do index"
   ]
  },
  {
   "cell_type": "markdown",
   "id": "bb48a525",
   "metadata": {},
   "source": [
    "##  Identificando e Tratando Dados Faltantes"
   ]
  },
  {
   "cell_type": "code",
   "execution_count": 7,
   "id": "d60c88ab",
   "metadata": {
    "scrolled": false
   },
   "outputs": [
    {
     "data": {
      "text/html": [
       "<div>\n",
       "<style scoped>\n",
       "    .dataframe tbody tr th:only-of-type {\n",
       "        vertical-align: middle;\n",
       "    }\n",
       "\n",
       "    .dataframe tbody tr th {\n",
       "        vertical-align: top;\n",
       "    }\n",
       "\n",
       "    .dataframe thead th {\n",
       "        text-align: right;\n",
       "    }\n",
       "</style>\n",
       "<table border=\"1\" class=\"dataframe\">\n",
       "  <thead>\n",
       "    <tr style=\"text-align: right;\">\n",
       "      <th>variaveis</th>\n",
       "      <th>qtd_nulos</th>\n",
       "      <th>% nulos/total</th>\n",
       "    </tr>\n",
       "  </thead>\n",
       "  <tbody>\n",
       "    <tr>\n",
       "      <th>Valor</th>\n",
       "      <td>9</td>\n",
       "      <td>0.04</td>\n",
       "    </tr>\n",
       "    <tr>\n",
       "      <th>Condominio</th>\n",
       "      <td>1858</td>\n",
       "      <td>8.06</td>\n",
       "    </tr>\n",
       "    <tr>\n",
       "      <th>IPTU</th>\n",
       "      <td>6865</td>\n",
       "      <td>29.78</td>\n",
       "    </tr>\n",
       "  </tbody>\n",
       "</table>\n",
       "</div>"
      ],
      "text/plain": [
       "variaveis   qtd_nulos  % nulos/total\n",
       "Valor               9           0.04\n",
       "Condominio       1858           8.06\n",
       "IPTU             6865          29.78"
      ]
     },
     "execution_count": 7,
     "metadata": {},
     "output_type": "execute_result"
    }
   ],
   "source": [
    "# Analisando a quantidade de dados nulos por coluna\n",
    "\n",
    "dados_nulos = pd.DataFrame(df_aluguel.isnull().sum(),columns=['qtd_nulos'])\n",
    "dados_nulos.columns.name='variaveis'\n",
    "dados_nulos['% nulos/total'] = round((dados_nulos.qtd_nulos/df_aluguel.shape[0])*100,2)\n",
    "dados_nulos[dados_nulos['qtd_nulos']>0]"
   ]
  },
  {
   "cell_type": "code",
   "execution_count": 8,
   "id": "a9c2c4b4",
   "metadata": {},
   "outputs": [
    {
     "data": {
      "text/html": [
       "<div>\n",
       "<style scoped>\n",
       "    .dataframe tbody tr th:only-of-type {\n",
       "        vertical-align: middle;\n",
       "    }\n",
       "\n",
       "    .dataframe tbody tr th {\n",
       "        vertical-align: top;\n",
       "    }\n",
       "\n",
       "    .dataframe thead th {\n",
       "        text-align: right;\n",
       "    }\n",
       "</style>\n",
       "<table border=\"1\" class=\"dataframe\">\n",
       "  <thead>\n",
       "    <tr style=\"text-align: right;\">\n",
       "      <th></th>\n",
       "      <th>Tipo</th>\n",
       "      <th>Bairro</th>\n",
       "      <th>Quartos</th>\n",
       "      <th>Vagas</th>\n",
       "      <th>Suites</th>\n",
       "      <th>Area</th>\n",
       "      <th>Valor</th>\n",
       "      <th>Condominio</th>\n",
       "      <th>IPTU</th>\n",
       "    </tr>\n",
       "  </thead>\n",
       "  <tbody>\n",
       "    <tr>\n",
       "      <th>60</th>\n",
       "      <td>Apartamento</td>\n",
       "      <td>Barra da Tijuca</td>\n",
       "      <td>2</td>\n",
       "      <td>1</td>\n",
       "      <td>1</td>\n",
       "      <td>70</td>\n",
       "      <td>NaN</td>\n",
       "      <td>970.0</td>\n",
       "      <td>68.0</td>\n",
       "    </tr>\n",
       "    <tr>\n",
       "      <th>1521</th>\n",
       "      <td>Apartamento</td>\n",
       "      <td>Leme</td>\n",
       "      <td>2</td>\n",
       "      <td>0</td>\n",
       "      <td>0</td>\n",
       "      <td>75</td>\n",
       "      <td>NaN</td>\n",
       "      <td>878.0</td>\n",
       "      <td>NaN</td>\n",
       "    </tr>\n",
       "    <tr>\n",
       "      <th>1715</th>\n",
       "      <td>Casa</td>\n",
       "      <td>Campo Grande</td>\n",
       "      <td>3</td>\n",
       "      <td>4</td>\n",
       "      <td>3</td>\n",
       "      <td>363</td>\n",
       "      <td>NaN</td>\n",
       "      <td>NaN</td>\n",
       "      <td>NaN</td>\n",
       "    </tr>\n",
       "    <tr>\n",
       "      <th>2052</th>\n",
       "      <td>Apartamento</td>\n",
       "      <td>Botafogo</td>\n",
       "      <td>2</td>\n",
       "      <td>0</td>\n",
       "      <td>0</td>\n",
       "      <td>95</td>\n",
       "      <td>NaN</td>\n",
       "      <td>1010.0</td>\n",
       "      <td>170.0</td>\n",
       "    </tr>\n",
       "    <tr>\n",
       "      <th>2074</th>\n",
       "      <td>Apartamento</td>\n",
       "      <td>Copacabana</td>\n",
       "      <td>2</td>\n",
       "      <td>0</td>\n",
       "      <td>0</td>\n",
       "      <td>72</td>\n",
       "      <td>NaN</td>\n",
       "      <td>850.0</td>\n",
       "      <td>NaN</td>\n",
       "    </tr>\n",
       "    <tr>\n",
       "      <th>5047</th>\n",
       "      <td>Casa</td>\n",
       "      <td>Campo Grande</td>\n",
       "      <td>3</td>\n",
       "      <td>2</td>\n",
       "      <td>1</td>\n",
       "      <td>100</td>\n",
       "      <td>NaN</td>\n",
       "      <td>NaN</td>\n",
       "      <td>NaN</td>\n",
       "    </tr>\n",
       "    <tr>\n",
       "      <th>8753</th>\n",
       "      <td>Apartamento</td>\n",
       "      <td>Leme</td>\n",
       "      <td>2</td>\n",
       "      <td>0</td>\n",
       "      <td>1</td>\n",
       "      <td>75</td>\n",
       "      <td>NaN</td>\n",
       "      <td>878.0</td>\n",
       "      <td>NaN</td>\n",
       "    </tr>\n",
       "    <tr>\n",
       "      <th>9141</th>\n",
       "      <td>Apartamento</td>\n",
       "      <td>Glória</td>\n",
       "      <td>3</td>\n",
       "      <td>0</td>\n",
       "      <td>1</td>\n",
       "      <td>135</td>\n",
       "      <td>NaN</td>\n",
       "      <td>910.0</td>\n",
       "      <td>228.0</td>\n",
       "    </tr>\n",
       "    <tr>\n",
       "      <th>9346</th>\n",
       "      <td>Apartamento</td>\n",
       "      <td>Gávea</td>\n",
       "      <td>3</td>\n",
       "      <td>1</td>\n",
       "      <td>1</td>\n",
       "      <td>105</td>\n",
       "      <td>NaN</td>\n",
       "      <td>880.0</td>\n",
       "      <td>221.0</td>\n",
       "    </tr>\n",
       "  </tbody>\n",
       "</table>\n",
       "</div>"
      ],
      "text/plain": [
       "             Tipo           Bairro  Quartos  Vagas  Suites  Area  Valor  \\\n",
       "60    Apartamento  Barra da Tijuca        2      1       1    70    NaN   \n",
       "1521  Apartamento             Leme        2      0       0    75    NaN   \n",
       "1715         Casa     Campo Grande        3      4       3   363    NaN   \n",
       "2052  Apartamento         Botafogo        2      0       0    95    NaN   \n",
       "2074  Apartamento       Copacabana        2      0       0    72    NaN   \n",
       "5047         Casa     Campo Grande        3      2       1   100    NaN   \n",
       "8753  Apartamento             Leme        2      0       1    75    NaN   \n",
       "9141  Apartamento           Glória        3      0       1   135    NaN   \n",
       "9346  Apartamento            Gávea        3      1       1   105    NaN   \n",
       "\n",
       "      Condominio   IPTU  \n",
       "60         970.0   68.0  \n",
       "1521       878.0    NaN  \n",
       "1715         NaN    NaN  \n",
       "2052      1010.0  170.0  \n",
       "2074       850.0    NaN  \n",
       "5047         NaN    NaN  \n",
       "8753       878.0    NaN  \n",
       "9141       910.0  228.0  \n",
       "9346       880.0  221.0  "
      ]
     },
     "execution_count": 8,
     "metadata": {},
     "output_type": "execute_result"
    }
   ],
   "source": [
    "selecao = df_aluguel['Valor'].isnull()\n",
    "df_aluguel[selecao]"
   ]
  },
  {
   "cell_type": "code",
   "execution_count": 9,
   "id": "24147d78",
   "metadata": {},
   "outputs": [],
   "source": [
    "df_aluguel.dropna(subset='Valor',inplace=True) # deletando os valores nulos da coluna Valor\n",
    "df_aluguel.index = range(df_aluguel.shape[0]) "
   ]
  },
  {
   "cell_type": "code",
   "execution_count": 10,
   "id": "d36f30f5",
   "metadata": {},
   "outputs": [],
   "source": [
    "# Selecionando os tipos de imoveis que deveriam possuir valor do condominio, mas estão com dados nulos.\n",
    "\n",
    "selecao = ((df_aluguel['Tipo']=='Apartamento') | (df_aluguel['Tipo']=='Flat')|(df_aluguel['Tipo']=='Quitinete')|(df_aluguel['Tipo']=='Casa de Condomínio')) & (df_aluguel['Condominio'].isnull())\n",
    "\n",
    "aluguel = df_aluguel[~selecao] # retirando os valores nulos para a nova base de dados\n",
    "\n",
    "aluguel.index = range(aluguel.shape[0])"
   ]
  },
  {
   "cell_type": "code",
   "execution_count": 11,
   "id": "3d78eab5",
   "metadata": {
    "scrolled": true
   },
   "outputs": [
    {
     "data": {
      "text/plain": [
       "['Casa', 'Casa de Vila']"
      ]
     },
     "execution_count": 11,
     "metadata": {},
     "output_type": "execute_result"
    }
   ],
   "source": [
    "# Verificando os tipos de imoveis que possuem dados nulos na coluna Condominio \n",
    "\n",
    "list(aluguel[aluguel.Condominio.isnull()]['Tipo'].unique())"
   ]
  },
  {
   "cell_type": "code",
   "execution_count": 12,
   "id": "19f60207",
   "metadata": {},
   "outputs": [],
   "source": [
    "# Preenchendo os valores nulos com 0\n",
    "aluguel.Condominio.fillna(0, inplace = True)\n",
    "aluguel.IPTU.fillna(0, inplace = True)"
   ]
  },
  {
   "cell_type": "code",
   "execution_count": 13,
   "id": "1b43769e",
   "metadata": {},
   "outputs": [
    {
     "data": {
      "text/plain": [
       "[]"
      ]
     },
     "execution_count": 13,
     "metadata": {},
     "output_type": "execute_result"
    }
   ],
   "source": [
    "# Verificando se possuem valores nulos.\n",
    "\n",
    "list(aluguel[aluguel.Condominio.isnull()]['Tipo'].unique())"
   ]
  },
  {
   "cell_type": "markdown",
   "id": "9da233d8",
   "metadata": {},
   "source": [
    "#  Obtendo dados Complementares\n",
    "\n",
    " Agrupando os bairros em regiões para ter uma análise regional dos imóveis.\n",
    " \n",
    " As informações do limite dos bairros foi disponibilizada pelo https://www.data.rio/\n",
    "\n",
    "fonte: https://www.data.rio/datasets/PCRJ::limite-de-bairros/explore?location=-22.916601%2C-43.444800%2C10.92"
   ]
  },
  {
   "cell_type": "code",
   "execution_count": 14,
   "id": "ee54c58f",
   "metadata": {},
   "outputs": [],
   "source": [
    "limite_bairros = pd.read_csv('Dados/Limite_de_Bairros.csv', sep=',')"
   ]
  },
  {
   "cell_type": "code",
   "execution_count": 15,
   "id": "271ba0c7",
   "metadata": {},
   "outputs": [],
   "source": [
    "limite_bairros.drop(['OBJECTID', 'Área', 'AREA_PLANE', 'CODBAIRRO',\n",
    "                   'CODRA', 'CODBNUM','REGIAO_ADM', 'LINK',  'Cod_RP', \n",
    "                    'CODBAIRRO_LONG','SHAPESTArea', 'SHAPESTLength'],\n",
    "                    axis=1, \n",
    "                    inplace = True )"
   ]
  },
  {
   "cell_type": "code",
   "execution_count": 16,
   "id": "60b4afe9",
   "metadata": {},
   "outputs": [],
   "source": [
    "limite_bairros.rename(columns={'NOME':'Bairro','RP':'Regiao'}, inplace = True)"
   ]
  },
  {
   "cell_type": "code",
   "execution_count": 17,
   "id": "33a40183",
   "metadata": {},
   "outputs": [],
   "source": [
    "# Retirando os espaços em branco dos str.\n",
    "\n",
    "limite_bairros['Bairro'] = limite_bairros.Bairro.str.lstrip()\n",
    "limite_bairros['Bairro'] = limite_bairros.Bairro.str.rstrip()\n",
    "\n",
    "limite_bairros['Regiao'] = limite_bairros.Regiao.str.lstrip()\n",
    "limite_bairros['Regiao'] = limite_bairros.Regiao.str.rstrip()"
   ]
  },
  {
   "cell_type": "markdown",
   "id": "fa5527f2",
   "metadata": {},
   "source": [
    "###  Analisando as Bases de Dados"
   ]
  },
  {
   "cell_type": "code",
   "execution_count": 18,
   "id": "750e046c",
   "metadata": {},
   "outputs": [
    {
     "name": "stdout",
     "output_type": "stream",
     "text": [
      "Quantidade de bairros Rio de Janeiro:  164\n"
     ]
    }
   ],
   "source": [
    "bairros_rio = limite_bairros.Bairro.unique().shape[0]\n",
    "bairros_rio\n",
    "print('Quantidade de bairros Rio de Janeiro: ',bairros_rio)"
   ]
  },
  {
   "cell_type": "code",
   "execution_count": 19,
   "id": "2351af66",
   "metadata": {},
   "outputs": [
    {
     "name": "stdout",
     "output_type": "stream",
     "text": [
      "Quantidade de bairros imobiliaria:  162\n"
     ]
    }
   ],
   "source": [
    "bairros_aluguel = dados.Bairro.unique().shape[0]\n",
    "print('Quantidade de bairros imobiliaria: ',bairros_aluguel)"
   ]
  },
  {
   "cell_type": "code",
   "execution_count": 20,
   "id": "2841eb0c",
   "metadata": {},
   "outputs": [
    {
     "name": "stdout",
     "output_type": "stream",
     "text": [
      "Quantidade de bairros encontrados:  144\n"
     ]
    }
   ],
   "source": [
    "bairros_encontrados = limite_bairros.Bairro.isin(dados.Bairro).sum()\n",
    "print('Quantidade de bairros encontrados: ',bairros_encontrados)"
   ]
  },
  {
   "cell_type": "code",
   "execution_count": 21,
   "id": "87d4f40b",
   "metadata": {},
   "outputs": [
    {
     "name": "stdout",
     "output_type": "stream",
     "text": [
      "Quantidade de bairros não encontrados:  18\n"
     ]
    }
   ],
   "source": [
    "print('Quantidade de bairros não encontrados: ', bairros_aluguel - bairros_encontrados)"
   ]
  },
  {
   "cell_type": "code",
   "execution_count": 22,
   "id": "2b7256cc",
   "metadata": {},
   "outputs": [],
   "source": [
    "tab_bairros = dados.Bairro.unique()\n",
    "tab_bairros = pd.DataFrame(tab_bairros)\n",
    "tab_bairros.rename(columns={0:\"Bairro\"}, inplace=True)"
   ]
  },
  {
   "cell_type": "markdown",
   "id": "81cccca6",
   "metadata": {},
   "source": [
    "## Unindo DataFrames\n",
    "\n"
   ]
  },
  {
   "cell_type": "code",
   "execution_count": 23,
   "id": "b92efd24",
   "metadata": {},
   "outputs": [
    {
     "data": {
      "text/html": [
       "<div>\n",
       "<style scoped>\n",
       "    .dataframe tbody tr th:only-of-type {\n",
       "        vertical-align: middle;\n",
       "    }\n",
       "\n",
       "    .dataframe tbody tr th {\n",
       "        vertical-align: top;\n",
       "    }\n",
       "\n",
       "    .dataframe thead th {\n",
       "        text-align: right;\n",
       "    }\n",
       "</style>\n",
       "<table border=\"1\" class=\"dataframe\">\n",
       "  <thead>\n",
       "    <tr style=\"text-align: right;\">\n",
       "      <th></th>\n",
       "      <th>Bairro</th>\n",
       "      <th>Regiao</th>\n",
       "    </tr>\n",
       "  </thead>\n",
       "  <tbody>\n",
       "    <tr>\n",
       "      <th>0</th>\n",
       "      <td>Copacabana</td>\n",
       "      <td>Zona Sul</td>\n",
       "    </tr>\n",
       "    <tr>\n",
       "      <th>1</th>\n",
       "      <td>Jardim Botânico</td>\n",
       "      <td>Zona Sul</td>\n",
       "    </tr>\n",
       "    <tr>\n",
       "      <th>2</th>\n",
       "      <td>Barra da Tijuca</td>\n",
       "      <td>Barra da Tijuca</td>\n",
       "    </tr>\n",
       "  </tbody>\n",
       "</table>\n",
       "</div>"
      ],
      "text/plain": [
       "            Bairro           Regiao\n",
       "0       Copacabana         Zona Sul\n",
       "1  Jardim Botânico         Zona Sul\n",
       "2  Barra da Tijuca  Barra da Tijuca"
      ]
     },
     "execution_count": 23,
     "metadata": {},
     "output_type": "execute_result"
    }
   ],
   "source": [
    "df_bairros = tab_bairros.merge(limite_bairros, on = \"Bairro\", how = \"left\")\n",
    "df_bairros.head(3)"
   ]
  },
  {
   "cell_type": "code",
   "execution_count": 24,
   "id": "4aeb725d",
   "metadata": {},
   "outputs": [],
   "source": [
    "df_bairros[df_bairros.Regiao.isnull()]['Bairro'] # coleta dos bairros sem Regiao \n",
    "\n",
    "# Criando um Dicionário para preencher os dados ausentes (busca realizada no Google)\n",
    "\n",
    "dic_bairros = {'Jardim Oceânico':'Barra da Tijuca',\n",
    "            'Península':'Barra da Tijuca',\n",
    "            'Ilha do Governador':'Ilha do Governador',\n",
    "            'Oswaldo Cruz':'Madureira',\n",
    "            'Fátima':'Centro',\n",
    "            'Braz de Pina':'Penha',\n",
    "            'Arpoador':'Ipanema',\n",
    "            'Icaraí':'Centro',\n",
    "            'Largo do Machado':'Zona Sul',\n",
    "            'Freguesia (Ilha do Governador)':'Ilha do Governador',\n",
    "            'Turiaçu':'Madureira',\n",
    "            'Usina':'Tijuca',\n",
    "            'Cachamorra':'Campo Grande',\n",
    "            'Rio da Prata':'Campo Grande',\n",
    "            'Cidade Jardim':'Jacarepaguá',\n",
    "            'Castelo':'Centro',\n",
    "            'Cinelândia':'Centro',\n",
    "            'Itaguaí':'Itaguaí'               \n",
    "              }\n"
   ]
  },
  {
   "cell_type": "code",
   "execution_count": 25,
   "id": "66b5922d",
   "metadata": {},
   "outputs": [
    {
     "data": {
      "text/plain": [
       "Int64Index([ 20,  22,  42,  55,  58,  61,  98, 103, 116, 131, 132, 137, 138,\n",
       "            143, 149, 150, 157, 158],\n",
       "           dtype='int64')"
      ]
     },
     "execution_count": 25,
     "metadata": {},
     "output_type": "execute_result"
    }
   ],
   "source": [
    "# index dos Valores nulos\n",
    "\n",
    "df_bairros[df_bairros.Regiao.isnull()]['Regiao'].index"
   ]
  },
  {
   "cell_type": "code",
   "execution_count": 26,
   "id": "8afd79b9",
   "metadata": {},
   "outputs": [],
   "source": [
    "lista_nulos = [ 20,  22,  42,  55,  58,  61,  98, 103, 116, 131, 132, 137, 138, 143, 149, 150, 157, 158]\n",
    "\n",
    "for valor in range(len(lista_nulos)):\n",
    "    preencher = df_bairros.Bairro[lista_nulos[valor]]\n",
    "    df_bairros['Regiao'][lista_nulos[valor]] = dic_bairros[preencher]"
   ]
  },
  {
   "cell_type": "code",
   "execution_count": 27,
   "id": "cec0d127",
   "metadata": {
    "scrolled": true
   },
   "outputs": [
    {
     "name": "stdout",
     "output_type": "stream",
     "text": [
      "Quantidade de dados nulos\n",
      " Bairro    0\n",
      "Regiao    0\n",
      "dtype: int64\n"
     ]
    }
   ],
   "source": [
    "print('Quantidade de dados nulos\\n',df_bairros.isnull().sum())"
   ]
  },
  {
   "cell_type": "code",
   "execution_count": 28,
   "id": "27148e5f",
   "metadata": {},
   "outputs": [
    {
     "data": {
      "text/html": [
       "<div>\n",
       "<style scoped>\n",
       "    .dataframe tbody tr th:only-of-type {\n",
       "        vertical-align: middle;\n",
       "    }\n",
       "\n",
       "    .dataframe tbody tr th {\n",
       "        vertical-align: top;\n",
       "    }\n",
       "\n",
       "    .dataframe thead th {\n",
       "        text-align: right;\n",
       "    }\n",
       "</style>\n",
       "<table border=\"1\" class=\"dataframe\">\n",
       "  <thead>\n",
       "    <tr style=\"text-align: right;\">\n",
       "      <th></th>\n",
       "      <th>Tipo</th>\n",
       "      <th>Bairro</th>\n",
       "      <th>Quartos</th>\n",
       "      <th>Vagas</th>\n",
       "      <th>Suites</th>\n",
       "      <th>Area</th>\n",
       "      <th>Valor</th>\n",
       "      <th>Condominio</th>\n",
       "      <th>IPTU</th>\n",
       "      <th>Regiao</th>\n",
       "    </tr>\n",
       "  </thead>\n",
       "  <tbody>\n",
       "    <tr>\n",
       "      <th>0</th>\n",
       "      <td>Quitinete</td>\n",
       "      <td>Copacabana</td>\n",
       "      <td>1</td>\n",
       "      <td>0</td>\n",
       "      <td>0</td>\n",
       "      <td>40</td>\n",
       "      <td>1700.0</td>\n",
       "      <td>500.0</td>\n",
       "      <td>60.0</td>\n",
       "      <td>Zona Sul</td>\n",
       "    </tr>\n",
       "    <tr>\n",
       "      <th>1</th>\n",
       "      <td>Casa</td>\n",
       "      <td>Jardim Botânico</td>\n",
       "      <td>2</td>\n",
       "      <td>0</td>\n",
       "      <td>1</td>\n",
       "      <td>100</td>\n",
       "      <td>7000.0</td>\n",
       "      <td>0.0</td>\n",
       "      <td>0.0</td>\n",
       "      <td>Zona Sul</td>\n",
       "    </tr>\n",
       "    <tr>\n",
       "      <th>2</th>\n",
       "      <td>Apartamento</td>\n",
       "      <td>Centro</td>\n",
       "      <td>1</td>\n",
       "      <td>0</td>\n",
       "      <td>0</td>\n",
       "      <td>15</td>\n",
       "      <td>800.0</td>\n",
       "      <td>390.0</td>\n",
       "      <td>20.0</td>\n",
       "      <td>Centro</td>\n",
       "    </tr>\n",
       "  </tbody>\n",
       "</table>\n",
       "</div>"
      ],
      "text/plain": [
       "          Tipo           Bairro  Quartos  Vagas  Suites  Area   Valor  \\\n",
       "0    Quitinete       Copacabana        1      0       0    40  1700.0   \n",
       "1         Casa  Jardim Botânico        2      0       1   100  7000.0   \n",
       "2  Apartamento           Centro        1      0       0    15   800.0   \n",
       "\n",
       "   Condominio  IPTU    Regiao  \n",
       "0       500.0  60.0  Zona Sul  \n",
       "1         0.0   0.0  Zona Sul  \n",
       "2       390.0  20.0    Centro  "
      ]
     },
     "execution_count": 28,
     "metadata": {},
     "output_type": "execute_result"
    }
   ],
   "source": [
    "aluguel = aluguel.merge(df_bairros, on='Bairro',how = 'left')\n",
    "aluguel.head(3)"
   ]
  },
  {
   "cell_type": "markdown",
   "id": "1d35217b",
   "metadata": {},
   "source": [
    "## Estatistica Descritiva\n"
   ]
  },
  {
   "cell_type": "code",
   "execution_count": 29,
   "id": "111ff6d9",
   "metadata": {
    "scrolled": true
   },
   "outputs": [
    {
     "data": {
      "text/html": [
       "<div>\n",
       "<style scoped>\n",
       "    .dataframe tbody tr th:only-of-type {\n",
       "        vertical-align: middle;\n",
       "    }\n",
       "\n",
       "    .dataframe tbody tr th {\n",
       "        vertical-align: top;\n",
       "    }\n",
       "\n",
       "    .dataframe thead th {\n",
       "        text-align: right;\n",
       "    }\n",
       "</style>\n",
       "<table border=\"1\" class=\"dataframe\">\n",
       "  <thead>\n",
       "    <tr style=\"text-align: right;\">\n",
       "      <th></th>\n",
       "      <th>Quartos</th>\n",
       "      <th>Vagas</th>\n",
       "      <th>Suites</th>\n",
       "      <th>Area</th>\n",
       "      <th>Valor</th>\n",
       "      <th>Condominio</th>\n",
       "      <th>IPTU</th>\n",
       "    </tr>\n",
       "  </thead>\n",
       "  <tbody>\n",
       "    <tr>\n",
       "      <th>count</th>\n",
       "      <td>22100.00</td>\n",
       "      <td>22100.00</td>\n",
       "      <td>22100.00</td>\n",
       "      <td>22100.00</td>\n",
       "      <td>22100.00</td>\n",
       "      <td>22100.00</td>\n",
       "      <td>22100.00</td>\n",
       "    </tr>\n",
       "    <tr>\n",
       "      <th>mean</th>\n",
       "      <td>2.51</td>\n",
       "      <td>1.30</td>\n",
       "      <td>0.95</td>\n",
       "      <td>136.04</td>\n",
       "      <td>5023.46</td>\n",
       "      <td>1582.94</td>\n",
       "      <td>577.66</td>\n",
       "    </tr>\n",
       "    <tr>\n",
       "      <th>std</th>\n",
       "      <td>1.08</td>\n",
       "      <td>13.23</td>\n",
       "      <td>1.13</td>\n",
       "      <td>143.06</td>\n",
       "      <td>32774.53</td>\n",
       "      <td>44238.16</td>\n",
       "      <td>3809.41</td>\n",
       "    </tr>\n",
       "    <tr>\n",
       "      <th>min</th>\n",
       "      <td>0.00</td>\n",
       "      <td>0.00</td>\n",
       "      <td>0.00</td>\n",
       "      <td>10.00</td>\n",
       "      <td>100.00</td>\n",
       "      <td>0.00</td>\n",
       "      <td>0.00</td>\n",
       "    </tr>\n",
       "    <tr>\n",
       "      <th>25%</th>\n",
       "      <td>2.00</td>\n",
       "      <td>0.00</td>\n",
       "      <td>0.00</td>\n",
       "      <td>65.00</td>\n",
       "      <td>1600.00</td>\n",
       "      <td>535.00</td>\n",
       "      <td>0.00</td>\n",
       "    </tr>\n",
       "    <tr>\n",
       "      <th>50%</th>\n",
       "      <td>2.00</td>\n",
       "      <td>1.00</td>\n",
       "      <td>1.00</td>\n",
       "      <td>90.00</td>\n",
       "      <td>2700.00</td>\n",
       "      <td>900.00</td>\n",
       "      <td>128.00</td>\n",
       "    </tr>\n",
       "    <tr>\n",
       "      <th>75%</th>\n",
       "      <td>3.00</td>\n",
       "      <td>2.00</td>\n",
       "      <td>1.00</td>\n",
       "      <td>150.00</td>\n",
       "      <td>5500.00</td>\n",
       "      <td>1593.25</td>\n",
       "      <td>373.25</td>\n",
       "    </tr>\n",
       "    <tr>\n",
       "      <th>max</th>\n",
       "      <td>14.00</td>\n",
       "      <td>1960.00</td>\n",
       "      <td>14.00</td>\n",
       "      <td>3000.00</td>\n",
       "      <td>4500000.00</td>\n",
       "      <td>6552570.00</td>\n",
       "      <td>450625.00</td>\n",
       "    </tr>\n",
       "  </tbody>\n",
       "</table>\n",
       "</div>"
      ],
      "text/plain": [
       "        Quartos     Vagas    Suites      Area       Valor  Condominio  \\\n",
       "count  22100.00  22100.00  22100.00  22100.00    22100.00    22100.00   \n",
       "mean       2.51      1.30      0.95    136.04     5023.46     1582.94   \n",
       "std        1.08     13.23      1.13    143.06    32774.53    44238.16   \n",
       "min        0.00      0.00      0.00     10.00      100.00        0.00   \n",
       "25%        2.00      0.00      0.00     65.00     1600.00      535.00   \n",
       "50%        2.00      1.00      1.00     90.00     2700.00      900.00   \n",
       "75%        3.00      2.00      1.00    150.00     5500.00     1593.25   \n",
       "max       14.00   1960.00     14.00   3000.00  4500000.00  6552570.00   \n",
       "\n",
       "            IPTU  \n",
       "count   22100.00  \n",
       "mean      577.66  \n",
       "std      3809.41  \n",
       "min         0.00  \n",
       "25%         0.00  \n",
       "50%       128.00  \n",
       "75%       373.25  \n",
       "max    450625.00  "
      ]
     },
     "execution_count": 29,
     "metadata": {},
     "output_type": "execute_result"
    }
   ],
   "source": [
    "aluguel.describe().round(2)"
   ]
  },
  {
   "cell_type": "markdown",
   "id": "b4aeb0a4",
   "metadata": {},
   "source": [
    "\n",
    "### Valores\n",
    "\n",
    "- Existem alguns valores bem maiores que não fazem sentido para base de dados de aluguel, talvez para venda de imóveis. Por isso serão retirados."
   ]
  },
  {
   "cell_type": "markdown",
   "id": "af6dd29b",
   "metadata": {},
   "source": [
    "## Subgrupos"
   ]
  },
  {
   "cell_type": "code",
   "execution_count": 30,
   "id": "e141c25b",
   "metadata": {},
   "outputs": [
    {
     "data": {
      "text/html": [
       "<div>\n",
       "<style scoped>\n",
       "    .dataframe tbody tr th:only-of-type {\n",
       "        vertical-align: middle;\n",
       "    }\n",
       "\n",
       "    .dataframe tbody tr th {\n",
       "        vertical-align: top;\n",
       "    }\n",
       "\n",
       "    .dataframe thead th {\n",
       "        text-align: right;\n",
       "    }\n",
       "</style>\n",
       "<table border=\"1\" class=\"dataframe\">\n",
       "  <thead>\n",
       "    <tr style=\"text-align: right;\">\n",
       "      <th></th>\n",
       "      <th>Mínimo</th>\n",
       "      <th>Máximo</th>\n",
       "      <th>Contagem</th>\n",
       "    </tr>\n",
       "    <tr>\n",
       "      <th>Tipo</th>\n",
       "      <th></th>\n",
       "      <th></th>\n",
       "      <th></th>\n",
       "    </tr>\n",
       "  </thead>\n",
       "  <tbody>\n",
       "    <tr>\n",
       "      <th>Apartamento</th>\n",
       "      <td>100.0</td>\n",
       "      <td>4500000.0</td>\n",
       "      <td>18780</td>\n",
       "    </tr>\n",
       "    <tr>\n",
       "      <th>Casa</th>\n",
       "      <td>400.0</td>\n",
       "      <td>60000.0</td>\n",
       "      <td>965</td>\n",
       "    </tr>\n",
       "    <tr>\n",
       "      <th>Casa de Condomínio</th>\n",
       "      <td>560.0</td>\n",
       "      <td>800000.0</td>\n",
       "      <td>901</td>\n",
       "    </tr>\n",
       "    <tr>\n",
       "      <th>Casa de Vila</th>\n",
       "      <td>380.0</td>\n",
       "      <td>15000.0</td>\n",
       "      <td>249</td>\n",
       "    </tr>\n",
       "    <tr>\n",
       "      <th>Flat</th>\n",
       "      <td>890.0</td>\n",
       "      <td>16000.0</td>\n",
       "      <td>433</td>\n",
       "    </tr>\n",
       "    <tr>\n",
       "      <th>Quitinete</th>\n",
       "      <td>300.0</td>\n",
       "      <td>5000.0</td>\n",
       "      <td>772</td>\n",
       "    </tr>\n",
       "  </tbody>\n",
       "</table>\n",
       "</div>"
      ],
      "text/plain": [
       "                    Mínimo     Máximo  Contagem\n",
       "Tipo                                           \n",
       "Apartamento          100.0  4500000.0     18780\n",
       "Casa                 400.0    60000.0       965\n",
       "Casa de Condomínio   560.0   800000.0       901\n",
       "Casa de Vila         380.0    15000.0       249\n",
       "Flat                 890.0    16000.0       433\n",
       "Quitinete            300.0     5000.0       772"
      ]
     },
     "execution_count": 30,
     "metadata": {},
     "output_type": "execute_result"
    }
   ],
   "source": [
    "g_tipos= aluguel.copy()\n",
    "g_tipos = g_tipos.groupby('Tipo')\n",
    "\n",
    "g_tipos['Valor'].aggregate(['min','max','count']).rename(columns={'min': 'Mínimo', 'max': 'Máximo','count':'Contagem'})"
   ]
  },
  {
   "cell_type": "code",
   "execution_count": 31,
   "id": "8a2b1ef7",
   "metadata": {},
   "outputs": [
    {
     "data": {
      "text/html": [
       "<div>\n",
       "<style scoped>\n",
       "    .dataframe tbody tr th:only-of-type {\n",
       "        vertical-align: middle;\n",
       "    }\n",
       "\n",
       "    .dataframe tbody tr th {\n",
       "        vertical-align: top;\n",
       "    }\n",
       "\n",
       "    .dataframe thead th {\n",
       "        text-align: right;\n",
       "    }\n",
       "</style>\n",
       "<table border=\"1\" class=\"dataframe\">\n",
       "  <thead>\n",
       "    <tr style=\"text-align: right;\">\n",
       "      <th></th>\n",
       "      <th>Mínimo</th>\n",
       "      <th>Máximo</th>\n",
       "      <th>Contagem</th>\n",
       "    </tr>\n",
       "    <tr>\n",
       "      <th>Tipo</th>\n",
       "      <th></th>\n",
       "      <th></th>\n",
       "      <th></th>\n",
       "    </tr>\n",
       "  </thead>\n",
       "  <tbody>\n",
       "    <tr>\n",
       "      <th>Apartamento</th>\n",
       "      <td>0</td>\n",
       "      <td>14</td>\n",
       "      <td>18780</td>\n",
       "    </tr>\n",
       "    <tr>\n",
       "      <th>Casa</th>\n",
       "      <td>0</td>\n",
       "      <td>14</td>\n",
       "      <td>965</td>\n",
       "    </tr>\n",
       "    <tr>\n",
       "      <th>Casa de Condomínio</th>\n",
       "      <td>1</td>\n",
       "      <td>11</td>\n",
       "      <td>901</td>\n",
       "    </tr>\n",
       "    <tr>\n",
       "      <th>Casa de Vila</th>\n",
       "      <td>0</td>\n",
       "      <td>6</td>\n",
       "      <td>249</td>\n",
       "    </tr>\n",
       "    <tr>\n",
       "      <th>Flat</th>\n",
       "      <td>0</td>\n",
       "      <td>4</td>\n",
       "      <td>433</td>\n",
       "    </tr>\n",
       "    <tr>\n",
       "      <th>Quitinete</th>\n",
       "      <td>0</td>\n",
       "      <td>2</td>\n",
       "      <td>772</td>\n",
       "    </tr>\n",
       "  </tbody>\n",
       "</table>\n",
       "</div>"
      ],
      "text/plain": [
       "                    Mínimo  Máximo  Contagem\n",
       "Tipo                                        \n",
       "Apartamento              0      14     18780\n",
       "Casa                     0      14       965\n",
       "Casa de Condomínio       1      11       901\n",
       "Casa de Vila             0       6       249\n",
       "Flat                     0       4       433\n",
       "Quitinete                0       2       772"
      ]
     },
     "execution_count": 31,
     "metadata": {},
     "output_type": "execute_result"
    }
   ],
   "source": [
    "g_tipos['Quartos'].aggregate(['min','max','count']).rename(columns={'min': 'Mínimo', 'max': 'Máximo','count':'Contagem'})"
   ]
  },
  {
   "cell_type": "markdown",
   "id": "7754d54a",
   "metadata": {},
   "source": [
    "Temos alguns valores na coluna 'Máximo' que não fazem muito sentido para alocação.\n",
    "\n",
    "Por exemplo: \n",
    "- Apartamento por 4.500.000,00\n",
    "- Casa de Condomínio por 800.000,00\n",
    "\n",
    "É possivel que a base de dados possua alguns imoveis que a finalidade seja para venda e não locação.\n",
    "\n",
    "\n"
   ]
  },
  {
   "cell_type": "markdown",
   "id": "e7a81edf",
   "metadata": {},
   "source": [
    "## Visualização Gráfica "
   ]
  },
  {
   "cell_type": "code",
   "execution_count": 32,
   "id": "ee2824de",
   "metadata": {},
   "outputs": [
    {
     "data": {
      "image/png": "[encoded data removed]",
      "text/plain": [
       "<Figure size 576x360 with 2 Axes>"
      ]
     },
     "metadata": {
      "needs_background": "light"
     },
     "output_type": "display_data"
    }
   ],
   "source": [
    "fig = plt.figure()\n",
    "\n",
    "ax1 = fig.add_subplot(1,2,1)\n",
    "ax2 = fig.add_subplot(1,2,2)\n",
    "\n",
    "plt.subplot(211)\n",
    "plt.hist(aluguel['Valor'])\n",
    "plt.title('Histograma dos valor dos Alugueis',size=16)\n",
    "\n",
    "plt.subplot(212)\n",
    "plt.hist(aluguel['Area'])\n",
    "plt.title('Histograma da Area dos Imoveis',size=16)\n",
    "plt.subplots_adjust(hspace=.4,right=1)\n",
    "plt.show()"
   ]
  },
  {
   "cell_type": "markdown",
   "id": "40201c04",
   "metadata": {},
   "source": [
    "### Não é possível análisar os dados devido aos Outliers.\n",
    "\n",
    "Para ter uma analise detalhada, será retirados os outliers\n"
   ]
  },
  {
   "cell_type": "markdown",
   "id": "1818b9e4",
   "metadata": {},
   "source": [
    "## Removendo Outliers"
   ]
  },
  {
   "cell_type": "markdown",
   "id": "2baaf7e6",
   "metadata": {},
   "source": [
    " Na figura abaixo, mostra a formula do boxplot.\n",
    " \n",
    " Com base nela, vou retirar os outliers"
   ]
  },
  {
   "cell_type": "markdown",
   "id": "3c23079f",
   "metadata": {},
   "source": [
    " <img src='Dados/box-plot.png' width=70%>"
   ]
  },
  {
   "cell_type": "code",
   "execution_count": 33,
   "id": "732a0bfa",
   "metadata": {},
   "outputs": [],
   "source": [
    "valores = aluguel.Valor\n",
    "\n",
    "q1 = valores.quantile(.25) # separando os 25% dos valores\n",
    "q3 = valores.quantile(.75)\n",
    "iiq = q3-q1\n",
    "out_inf = q1-(iiq*1.5) # Limite Inferior\n",
    "out_sup = q3+(iiq*1) # Limite Superior\n",
    "\n",
    "selecao = (valores>=out_inf) & (valores<=out_sup)\n",
    "dados_new = aluguel[selecao]\n"
   ]
  },
  {
   "cell_type": "code",
   "execution_count": 34,
   "id": "9c05bf10",
   "metadata": {},
   "outputs": [],
   "source": [
    "areas = aluguel.Area\n",
    "\n",
    "q1 = areas.quantile(.25) \n",
    "q3 = areas.quantile(.75)\n",
    "iiq = q3-q1\n",
    "out_inf = q1-(iiq*1.5)\n",
    "out_sup = q3+(iiq*1)\n",
    "\n",
    "selecao = (areas>=out_inf) & (areas<=out_sup)\n",
    "dados_2 = dados_new[selecao]"
   ]
  },
  {
   "cell_type": "code",
   "execution_count": 35,
   "id": "2e27f822",
   "metadata": {},
   "outputs": [],
   "source": [
    "condominio = dados_2.Condominio\n",
    "\n",
    "q1 = condominio.quantile(.25) \n",
    "q3 = condominio.quantile(.75)\n",
    "iiq = q3-q1\n",
    "out_inf = q1-(iiq*1.5)\n",
    "out_sup = q3+(iiq*1)\n",
    "\n",
    "selecao = (condominio>=out_inf) & (condominio<=out_sup)\n",
    "dados_3 = dados_2[selecao]"
   ]
  },
  {
   "cell_type": "code",
   "execution_count": 36,
   "id": "3bf74bdc",
   "metadata": {},
   "outputs": [],
   "source": [
    "dados_4 = dados_3[(dados_3.Vagas<6) & (dados_3.Quartos<5)]\n",
    "\n",
    "iptu = dados_4.IPTU\n",
    "\n",
    "\n",
    "q1 = iptu.quantile(.25) \n",
    "q3 = iptu.quantile(.75)\n",
    "iiq = q3-q1\n",
    "out_inf = q1-(iiq*1.5)\n",
    "out_sup = q3+(iiq*1)\n",
    "\n",
    "selecao = (iptu>=out_inf) & (iptu<=out_sup)\n",
    "dados_5 = dados_4[selecao]"
   ]
  },
  {
   "cell_type": "code",
   "execution_count": 37,
   "id": "66afdd8e",
   "metadata": {},
   "outputs": [],
   "source": [
    "iptu = dados_5.IPTU\n",
    "\n",
    "q1 = iptu.quantile(.25) \n",
    "q3 = iptu.quantile(.75)\n",
    "iiq = q3-q1\n",
    "out_inf = q1-(iiq*1.5)\n",
    "out_sup = q3+(iiq*1)\n",
    "\n",
    "selecao = (iptu>=out_inf) & (iptu<=out_sup)\n",
    "dados_6 = dados_5[selecao]\n",
    "\n",
    "aluguel_new = dados_6"
   ]
  },
  {
   "cell_type": "markdown",
   "id": "6400bd6b",
   "metadata": {},
   "source": [
    "### Criando Novas Variáveis para Estudo"
   ]
  },
  {
   "cell_type": "code",
   "execution_count": 38,
   "id": "97269cb0",
   "metadata": {},
   "outputs": [],
   "source": [
    "aluguel_new['Valor_Bruto'] = (aluguel_new['Valor'] + aluguel_new['Condominio'] + aluguel_new['IPTU'])"
   ]
  },
  {
   "cell_type": "code",
   "execution_count": 39,
   "id": "e7d16875",
   "metadata": {},
   "outputs": [],
   "source": [
    "aluguel_new['Valor_m2'] = round(aluguel_new['Valor_Bruto']/aluguel_new['Area'],2)"
   ]
  },
  {
   "cell_type": "code",
   "execution_count": 40,
   "id": "61d1ac08",
   "metadata": {},
   "outputs": [],
   "source": [
    "casa = ['Casa','Casa de Condomínio','Casa de Vila']\n",
    "\n",
    "aluguel_new['Tipo_Agregado'] = aluguel_new['Tipo'].apply(lambda tipo: 'Casa' if tipo in casa else 'Apartamento' )"
   ]
  },
  {
   "cell_type": "markdown",
   "id": "18a6ef81",
   "metadata": {},
   "source": [
    "## Análise Gráfica\n"
   ]
  },
  {
   "cell_type": "code",
   "execution_count": 41,
   "id": "191c986d",
   "metadata": {
    "scrolled": false
   },
   "outputs": [
    {
     "data": {
      "image/png": "[encoded data removed]",
      "text/plain": [
       "<Figure size 720x360 with 1 Axes>"
      ]
     },
     "metadata": {
      "needs_background": "light"
     },
     "output_type": "display_data"
    }
   ],
   "source": [
    "plt.rcParams[\"figure.figsize\"] = (10,5)\n",
    "aluguel_new.Tipo_Agregado.value_counts().plot.bar()\n",
    "plt.title('Tipo de Imóveis \\n',size=18)\n",
    "plt.xlabel('Tipo de Imóvel',size=13)\n",
    "plt.xticks(rotation=0,size=13)\n",
    "plt.ylabel('Qtd por Tipo',size=13)\n",
    "\n",
    "plt.show()"
   ]
  },
  {
   "cell_type": "code",
   "execution_count": 42,
   "id": "15c52257",
   "metadata": {},
   "outputs": [
    {
     "data": {
      "image/png": "[encoded data removed]",
      "text/plain": [
       "<Figure size 1080x720 with 4 Axes>"
      ]
     },
     "metadata": {
      "needs_background": "light"
     },
     "output_type": "display_data"
    }
   ],
   "source": [
    "fig = plt.figure(figsize=(15,10))\n",
    "\n",
    "ax1 = fig.add_subplot(2,2,1)\n",
    "ax2 = fig.add_subplot(2,2,2)\n",
    "ax3 = fig.add_subplot(2,2,3)\n",
    "ax4 = fig.add_subplot(2,2,4)\n",
    "\n",
    "\n",
    "# 1° Figura\n",
    "label = aluguel.Tipo\n",
    "valores = aluguel.Valor\n",
    "sns.boxplot(x=label, y= valores,data=aluguel, ax=ax1,palette = 'Blues')\n",
    "ax1.set_xticklabels(labels=(label.unique()),rotation=15)\n",
    "ax1.set_xlabel('')\n",
    "ax1.set_title('Distribuição Com Outlier \\n',size=14)\n",
    "\n",
    "\n",
    "# 2° Figura\n",
    "label = aluguel_new.Tipo\n",
    "valores = aluguel_new.Valor\n",
    "sns.boxplot(x=label,y=valores,data=aluguel_new,ax=ax2,palette = 'Blues')\n",
    "ax2.set_xticklabels(labels=(label.unique()),rotation=15)\n",
    "ax2.set_xlabel('')\n",
    "ax2.set_title('Distribuição Sem Outlier \\n',size=14)\n",
    "\n",
    "\n",
    "# 3° Figura\n",
    "label = aluguel.Tipo\n",
    "valores = aluguel.Area\n",
    "sns.boxplot(x=label, y= valores,data=aluguel, ax=ax3,palette = 'Blues')\n",
    "ax3.set_xticklabels(labels=(label.unique()),rotation=15)\n",
    "ax3.set_ylabel('Área m²')\n",
    "\n",
    "\n",
    "\n",
    "# 4° Figura\n",
    "label = aluguel_new.Tipo\n",
    "valores = aluguel_new.Area\n",
    "sns.boxplot(x=label, y= valores,data=aluguel_new, ax=ax4,palette = 'Blues')\n",
    "ax4.set_xticklabels(labels=(label.unique()),rotation=15)\n",
    "ax4.set_ylabel('Área m²')\n",
    "\n",
    "\n",
    "\n",
    "fig.suptitle('Diferença Valores com e sem Outlier',size=18)\n",
    "\n",
    "plt.subplots_adjust(hspace=.4,wspace=.2)\n",
    "\n",
    "fig.show()"
   ]
  },
  {
   "cell_type": "markdown",
   "id": "b0af3c0e",
   "metadata": {},
   "source": [
    "### Sem Outliers\n",
    "Com a retirada dos outliers, facilita a visualização de como os valores estão distribuidos, tenho um conhecimento mais aprofundado da base de dados."
   ]
  },
  {
   "cell_type": "code",
   "execution_count": 43,
   "id": "ef9befc4",
   "metadata": {
    "scrolled": false
   },
   "outputs": [
    {
     "data": {
      "image/png": "[encoded data removed]",
      "text/plain": [
       "<Figure size 1080x1080 with 2 Axes>"
      ]
     },
     "metadata": {
      "needs_background": "light"
     },
     "output_type": "display_data"
    }
   ],
   "source": [
    "fig = plt.figure(figsize=(15,15))\n",
    "\n",
    "\n",
    "ax1 = fig.add_subplot(2,1,1)\n",
    "ax2 = fig.add_subplot(2,1,2)\n",
    "# ax3 = fig.add_subplot(3,1,3)\n",
    "\n",
    "txt = ['Zona Sul', 'Centro', 'Inhaúma', 'Méier',\n",
    "       'Tijuca', 'Jacarepaguá','Barra da\\n Tijuca\\n', \n",
    "       'Ramos', 'Ilha do\\n Governador\\n', 'Campo \\nGrande',\n",
    "       'Ipanema', 'Bangu', 'Madureira', 'Penha', 'Guaratiba',\n",
    "       'Pavuna','Santa Cruz']\n",
    "\n",
    "# 1° Figura\n",
    "label = aluguel_new.Regiao\n",
    "valores = aluguel_new.Valor\n",
    "sns.boxplot(x=label, y= valores,data=aluguel, ax=ax1,palette = 'Blues')\n",
    "ax1.set_ylabel('Valor Aluguel',size=12.5)\n",
    "ax1.set_xlabel('')\n",
    "ax1.set_xticklabels(labels=txt,rotation=40)\n",
    "ax1.set_title('Aluguel do Imóvel por Região\\n',size=18)\n",
    "\n",
    "\n",
    "# 2° Figura\n",
    "label = aluguel_new.Regiao\n",
    "valores = aluguel_new[aluguel_new.Condominio>0]['Condominio']\n",
    "sns.boxplot(x=label,y=valores,data=aluguel_new,ax=ax2,palette = 'Blues')\n",
    "ax2.set_ylabel('Valor Condomínio',size=12.5)\n",
    "ax2.set_xlabel('Regiao',size=12.5)\n",
    "ax2.set_xticklabels(labels=txt,rotation=40)\n",
    "ax2.set_title('Condomínio do Imóvel por Região\\n',size=18)\n",
    "\n",
    "\n",
    "\n",
    "fig.suptitle('Distribuição dos Valores: Aluguel e Condomínio',size=18)\n",
    "\n",
    "\n",
    "plt.subplots_adjust(hspace=0.4)\n",
    "\n",
    "fig.show()\n",
    "\n"
   ]
  },
  {
   "cell_type": "markdown",
   "id": "68d816f2",
   "metadata": {},
   "source": [
    "### Aluguel\n",
    "\n",
    "- A maioria dos valores dos aluguéis, estão concentrados até 2 mil Reais.<p>\n",
    "\n",
    "- As regiões com os alugueis mais altos são: Ipanema, Zona Sul e Barra da Tijuca.<p>\n",
    "\n",
    "- Zona Sul tendo maior variedade de valores.<p>\n",
    "\n",
    "\n",
    "### Condomínio\n",
    "    \n",
    "- A maioria dos valores dos condomínios, estão concentrados até 1 mil Reais.<p>\n",
    "\n",
    "- As regiões com os condominios mais caros são: Ipanema, Barra da Tijuca e Zona Sul.<p>\n",
    "\n",
    "- Zona Sul e Barra da Tijuca, são as regiões que tem maior variedade de valores. No entanto, Barra da Tijuca, tem os valores mais elevados."
   ]
  },
  {
   "cell_type": "code",
   "execution_count": 44,
   "id": "8cdc61f9",
   "metadata": {},
   "outputs": [
    {
     "data": {
      "image/png": "[encoded data removed]",
      "text/plain": [
       "<Figure size 1080x432 with 1 Axes>"
      ]
     },
     "metadata": {
      "needs_background": "light"
     },
     "output_type": "display_data"
    }
   ],
   "source": [
    "plt.figure(figsize=(15,6))\n",
    "\n",
    "\n",
    "label= aluguel_new.Regiao\n",
    "valor = aluguel_new.Valor_Bruto\n",
    "\n",
    "txt = ['Zona Sul', 'Centro', 'Inhaúma', 'Méier',\n",
    "       'Tijuca', 'Jacarepaguá','Barra da\\n Tijuca\\n', \n",
    "       'Ramos', 'Ilha do\\n Governador\\n', 'Campo \\nGrande',\n",
    "       'Ipanema', 'Bangu', 'Madureira', 'Penha', 'Guaratiba',\n",
    "       'Pavuna','Santa Cruz']\n",
    "\n",
    "\n",
    "sns.boxplot(label,valor,palette='Blues')\n",
    "\n",
    "plt.ylabel('Valor Bruto',size=12.5)\n",
    "plt.xticks(ticks =np.arange(len(txt)), \n",
    "           labels = txt, \n",
    "           rotation = 40, \n",
    "           size = 13)\n",
    "\n",
    "plt.title('Distribuição do Valor Bruto por Região \\n(Aluguel + Condominio + IPTU)\\n',\n",
    "          size=18)\n",
    "\n",
    "plt.show()\n"
   ]
  },
  {
   "cell_type": "markdown",
   "id": "7a4a307f",
   "metadata": {},
   "source": [
    "\n",
    "Com a distribuição de valores. É possível tirar alguns insigths:\n",
    " - Ipanema é a região mais valorizada, possuindo os imóveis mais caros, acima de 5 mil.\n",
    " \n",
    " \n",
    " - Zona Sul abrange maior variedade nos valores, com imóveis econômicos até os de alto padrão, sendo a segunda região mais valorizada.\n",
    " \n",
    " \n",
    " - Barra da Tijuca é a terceira região mais valorizada.\n",
    " \n",
    " \n",
    " - As demais regiões, o valor total está até 2 mil reais, praticamente."
   ]
  },
  {
   "cell_type": "code",
   "execution_count": 45,
   "id": "9027ab9f",
   "metadata": {},
   "outputs": [
    {
     "data": {
      "image/png": "[encoded data removed]",
      "text/plain": [
       "<Figure size 1080x432 with 1 Axes>"
      ]
     },
     "metadata": {
      "needs_background": "light"
     },
     "output_type": "display_data"
    }
   ],
   "source": [
    "plt.figure(figsize=(15,6))\n",
    "\n",
    "label= aluguel_new.Regiao\n",
    "valor = aluguel_new.Area\n",
    "\n",
    "txt = ['Zona Sul', 'Centro', 'Inhaúma', 'Méier',\n",
    "       'Tijuca', 'Jacarepaguá','Barra da\\n Tijuca\\n', \n",
    "       'Ramos', 'Ilha do\\n Governador\\n', 'Campo \\nGrande',\n",
    "       'Ipanema', 'Bangu', 'Madureira', 'Penha', 'Guaratiba',\n",
    "       'Pavuna','Santa Cruz']\n",
    "\n",
    "sns.boxplot(label,valor,palette='Blues')\n",
    "\n",
    "plt.ylabel('Area m²',size=13)\n",
    "plt.xlabel('Região',size=13)\n",
    "\n",
    "plt.xticks(ticks =np.arange(len(txt)), \n",
    "           labels = txt, \n",
    "           rotation = 40, \n",
    "           size = 13)\n",
    "\n",
    "plt.title('Distribuição do Tamanho dos Imóveis por Região \\n',size=18)\n",
    "\n",
    "plt.show()\n"
   ]
  },
  {
   "cell_type": "markdown",
   "id": "41597393",
   "metadata": {},
   "source": [
    "\n",
    " - Ipanema é a regiao que possuem imóveis com maior area, imóveis com areas de 60 m² até 200 m²<p>\n",
    "    \n",
    " - Barra da Tijuca, é a que abrange maior variedade de tamanhos, com imóveis de 25 m² até 240 m², sendo a segunda região com maior area de imóvel para locação.<p>\n",
    " - Zona Sul possue grade variedade de tamanhos também, e fica em terceiro lugar em tamanho de imóveis para locação.<p>\n",
    " - As demais regiões possuem imóveis com tamanho até 100 m². Sendo que a maioria encontra-se entre 50 m² e 100 m².<p>"
   ]
  }
 ],
 "metadata": {
  "kernelspec": {
   "display_name": "Python 3 (ipykernel)",
   "language": "python",
   "name": "python3"
  },
  "language_info": {
   "codemirror_mode": {
    "name": "ipython",
    "version": 3
   },
   "file_extension": ".py",
   "mimetype": "text/x-python",
   "name": "python",
   "nbconvert_exporter": "python",
   "pygments_lexer": "ipython3",
   "version": "3.9.12"
  }
 },
 "nbformat": 4,
 "nbformat_minor": 5
}
