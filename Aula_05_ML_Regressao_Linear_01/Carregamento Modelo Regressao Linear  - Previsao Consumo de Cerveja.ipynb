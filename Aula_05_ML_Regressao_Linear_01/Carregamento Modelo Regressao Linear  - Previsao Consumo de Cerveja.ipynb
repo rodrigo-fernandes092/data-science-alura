{
 "cells": [
  {
   "cell_type": "code",
   "execution_count": 8,
   "id": "6a8d2185",
   "metadata": {},
   "outputs": [],
   "source": [
    "import pickle\n",
    "import warnings\n",
    "warnings.filterwarnings('ignore')"
   ]
  },
  {
   "cell_type": "code",
   "execution_count": 9,
   "id": "d208ff48",
   "metadata": {},
   "outputs": [],
   "source": [
    "modelo = open('modelo_consumo_cerveja','rb')\n",
    "lm_new = pickle.load(modelo)\n",
    "modelo.close()"
   ]
  },
  {
   "cell_type": "code",
   "execution_count": 21,
   "id": "0c6a0e09",
   "metadata": {},
   "outputs": [
    {
     "name": "stdout",
     "output_type": "stream",
     "text": [
      "Com a temperatura máxima de 30.50°C, com chuva de 12.20 mm e sendo durante o final de semana.\n",
      " A previsão de consumo é de: 31495.99 Litros de cerveja\n"
     ]
    }
   ],
   "source": [
    "temp_max = 30.50\n",
    "chuva = 12.20\n",
    "fds = 1\n",
    "entrada = [[temp_max, chuva, fds]]\n",
    "if fds == 0:\n",
    "    print('Com a temperatura máxima de {0:.2f}°C, com chuva de {1:.2f} mm e sendo durante a semana.\\n A previsão de consumo é de: {2:.2f} Litros de cerveja'.format(temp_max,chuva,lm_new.predict(entrada)[0]))\n",
    "else:\n",
    "    print('Com a temperatura máxima de {0:.2f}°C, com chuva de {1:.2f} mm e sendo durante o final de semana.\\n A previsão de consumo é de: {2:.2f} Litros de cerveja'.format(temp_max,chuva,lm_new.predict(entrada)[0]))"
   ]
  }
 ],
 "metadata": {
  "kernelspec": {
   "display_name": "Python 3 (ipykernel)",
   "language": "python",
   "name": "python3"
  },
  "language_info": {
   "codemirror_mode": {
    "name": "ipython",
    "version": 3
   },
   "file_extension": ".py",
   "mimetype": "text/x-python",
   "name": "python",
   "nbconvert_exporter": "python",
   "pygments_lexer": "ipython3",
   "version": "3.9.12"
  }
 },
 "nbformat": 4,
 "nbformat_minor": 5
}
