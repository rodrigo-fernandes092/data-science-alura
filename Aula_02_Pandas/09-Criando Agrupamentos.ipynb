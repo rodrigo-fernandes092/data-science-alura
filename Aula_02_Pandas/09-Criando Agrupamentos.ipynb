{
 "cells": [
  {
   "cell_type": "code",
   "execution_count": 450,
   "id": "40354d0d",
   "metadata": {},
   "outputs": [],
   "source": [
    "import pandas as pd\n"
   ]
  },
  {
   "cell_type": "code",
   "execution_count": 451,
   "id": "7d5497ec",
   "metadata": {},
   "outputs": [],
   "source": [
    "dados = pd.read_csv('Dados/aluguel_residencial_08.csv',sep=';')"
   ]
  },
  {
   "cell_type": "markdown",
   "id": "b9e44a49",
   "metadata": {},
   "source": [
    "# Obtendo Dados complementares \n",
    " Limites dos bairros do Rio de Janeiro\n",
    " \n",
    " Disponibilizados pelo https://www.data.rio/\n",
    "\n",
    "https://www.data.rio/datasets/PCRJ::limite-de-bairros/explore?location=-22.916601%2C-43.444800%2C10.92\n"
   ]
  },
  {
   "cell_type": "code",
   "execution_count": 452,
   "id": "0e30c88d",
   "metadata": {},
   "outputs": [],
   "source": [
    "limite_bairros = pd.read_csv('Dados/Limite_de_Bairros.csv', sep=',')"
   ]
  },
  {
   "cell_type": "markdown",
   "id": "f5571346",
   "metadata": {},
   "source": [
    "## Tratando a base de dados\n",
    " - Limpeza \n",
    " - Renomeando \n",
    " "
   ]
  },
  {
   "cell_type": "code",
   "execution_count": 453,
   "id": "317de58e",
   "metadata": {},
   "outputs": [],
   "source": [
    "limite_bairros.drop(['OBJECTID', 'Área', 'AREA_PLANE', 'CODBAIRRO',\n",
    "                   'CODRA', 'CODBNUM','REGIAO_ADM', 'LINK',  'Cod_RP', 'CODBAIRRO_LONG',\n",
    "                   'SHAPESTArea', 'SHAPESTLength'], axis=1, inplace = True )"
   ]
  },
  {
   "cell_type": "code",
   "execution_count": 454,
   "id": "d338f350",
   "metadata": {},
   "outputs": [],
   "source": [
    "limite_bairros.rename(columns={'NOME':'Bairro','RP':'Regiao'}, inplace = True)"
   ]
  },
  {
   "cell_type": "code",
   "execution_count": 455,
   "id": "594e0c3d",
   "metadata": {},
   "outputs": [],
   "source": [
    "# Retirando os espaços em branco dos str.\n",
    "\n",
    "limite_bairros['Bairro'] = limite_bairros.Bairro.str.lstrip()\n",
    "limite_bairros['Bairro'] = limite_bairros.Bairro.str.rstrip()\n",
    "\n",
    "limite_bairros['Regiao'] = limite_bairros.Regiao.str.lstrip()\n",
    "limite_bairros['Regiao'] = limite_bairros.Regiao.str.rstrip()"
   ]
  },
  {
   "cell_type": "markdown",
   "id": "a3c89b95",
   "metadata": {},
   "source": [
    "###  Analisando a Base de Dados"
   ]
  },
  {
   "cell_type": "code",
   "execution_count": 456,
   "id": "fc16fa2c",
   "metadata": {},
   "outputs": [
    {
     "name": "stdout",
     "output_type": "stream",
     "text": [
      "Quantidade de bairros Rio de Janeiro:  164\n"
     ]
    }
   ],
   "source": [
    "bairros_rio = limite_bairros.Bairro.unique().shape[0]\n",
    "bairros_rio\n",
    "print('Quantidade de bairros Rio de Janeiro: ',bairros_rio)"
   ]
  },
  {
   "cell_type": "code",
   "execution_count": 457,
   "id": "a8b18505",
   "metadata": {},
   "outputs": [
    {
     "name": "stdout",
     "output_type": "stream",
     "text": [
      "Quantidade de bairros imobiliaria:  152\n"
     ]
    }
   ],
   "source": [
    "bairros_aluguel = dados.Bairro.unique().shape[0]\n",
    "print('Quantidade de bairros imobiliaria: ',bairros_aluguel)"
   ]
  },
  {
   "cell_type": "code",
   "execution_count": 458,
   "id": "23d8cfd5",
   "metadata": {
    "scrolled": true
   },
   "outputs": [
    {
     "name": "stdout",
     "output_type": "stream",
     "text": [
      "Quantidade de bairros encontrados:  137\n"
     ]
    }
   ],
   "source": [
    "bairros_encontrados = limite_bairros.Bairro.isin(dados.Bairro).sum()\n",
    "print('Quantidade de bairros encontrados: ',bairros_encontrados)"
   ]
  },
  {
   "cell_type": "code",
   "execution_count": 459,
   "id": "fb87c787",
   "metadata": {},
   "outputs": [
    {
     "name": "stdout",
     "output_type": "stream",
     "text": [
      "Quantidade de bairros não encontrados:  15\n"
     ]
    }
   ],
   "source": [
    "print('Quantidade de bairros não encontrados: ', bairros_aluguel - bairros_encontrados)"
   ]
  },
  {
   "cell_type": "code",
   "execution_count": 461,
   "id": "c3bac59c",
   "metadata": {},
   "outputs": [],
   "source": [
    "tab_bairros = dados.Bairro.unique()\n",
    "tab_bairros = pd.DataFrame(tab_bairros)\n",
    "tab_bairros.rename(columns={0:\"Bairro\"}, inplace=True)"
   ]
  },
  {
   "cell_type": "markdown",
   "id": "aae896f2",
   "metadata": {},
   "source": [
    "## Unindo DataFrames"
   ]
  },
  {
   "cell_type": "code",
   "execution_count": 485,
   "id": "9e7ac105",
   "metadata": {},
   "outputs": [
    {
     "data": {
      "text/html": [
       "<div>\n",
       "<style scoped>\n",
       "    .dataframe tbody tr th:only-of-type {\n",
       "        vertical-align: middle;\n",
       "    }\n",
       "\n",
       "    .dataframe tbody tr th {\n",
       "        vertical-align: top;\n",
       "    }\n",
       "\n",
       "    .dataframe thead th {\n",
       "        text-align: right;\n",
       "    }\n",
       "</style>\n",
       "<table border=\"1\" class=\"dataframe\">\n",
       "  <thead>\n",
       "    <tr style=\"text-align: right;\">\n",
       "      <th></th>\n",
       "      <th>Bairro</th>\n",
       "      <th>Regiao</th>\n",
       "    </tr>\n",
       "  </thead>\n",
       "  <tbody>\n",
       "    <tr>\n",
       "      <th>0</th>\n",
       "      <td>Copacabana</td>\n",
       "      <td>Zona Sul</td>\n",
       "    </tr>\n",
       "    <tr>\n",
       "      <th>1</th>\n",
       "      <td>Jardim Botânico</td>\n",
       "      <td>Zona Sul</td>\n",
       "    </tr>\n",
       "    <tr>\n",
       "      <th>2</th>\n",
       "      <td>Centro</td>\n",
       "      <td>Centro</td>\n",
       "    </tr>\n",
       "    <tr>\n",
       "      <th>3</th>\n",
       "      <td>Higienópolis</td>\n",
       "      <td>Inhaúma</td>\n",
       "    </tr>\n",
       "    <tr>\n",
       "      <th>4</th>\n",
       "      <td>Cachambi</td>\n",
       "      <td>Méier</td>\n",
       "    </tr>\n",
       "  </tbody>\n",
       "</table>\n",
       "</div>"
      ],
      "text/plain": [
       "            Bairro    Regiao\n",
       "0       Copacabana  Zona Sul\n",
       "1  Jardim Botânico  Zona Sul\n",
       "2           Centro    Centro\n",
       "3     Higienópolis   Inhaúma\n",
       "4         Cachambi     Méier"
      ]
     },
     "execution_count": 485,
     "metadata": {},
     "output_type": "execute_result"
    }
   ],
   "source": [
    "df_bairros = tab_bairros.merge(limite_bairros, on = \"Bairro\", how = \"left\")\n",
    "df_bairros.head()"
   ]
  },
  {
   "cell_type": "code",
   "execution_count": 486,
   "id": "ce698591",
   "metadata": {},
   "outputs": [
    {
     "data": {
      "text/plain": [
       "18                    Jardim Oceânico\n",
       "20                          Península\n",
       "47                 Ilha do Governador\n",
       "49                       Oswaldo Cruz\n",
       "78                             Fátima\n",
       "83                       Braz de Pina\n",
       "111                          Arpoador\n",
       "114                            Icaraí\n",
       "122                  Largo do Machado\n",
       "124    Freguesia (Ilha do Governador)\n",
       "128                           Turiaçu\n",
       "133                             Usina\n",
       "140                        Cachamorra\n",
       "149                      Rio da Prata\n",
       "150                     Cidade Jardim\n",
       "Name: Bairro, dtype: object"
      ]
     },
     "execution_count": 486,
     "metadata": {},
     "output_type": "execute_result"
    }
   ],
   "source": [
    "df_bairros[df_bairros.Regiao.isnull()]['Bairro']"
   ]
  },
  {
   "cell_type": "code",
   "execution_count": 509,
   "id": "76e34f5c",
   "metadata": {},
   "outputs": [
    {
     "data": {
      "text/html": [
       "<div>\n",
       "<style scoped>\n",
       "    .dataframe tbody tr th:only-of-type {\n",
       "        vertical-align: middle;\n",
       "    }\n",
       "\n",
       "    .dataframe tbody tr th {\n",
       "        vertical-align: top;\n",
       "    }\n",
       "\n",
       "    .dataframe thead th {\n",
       "        text-align: right;\n",
       "    }\n",
       "</style>\n",
       "<table border=\"1\" class=\"dataframe\">\n",
       "  <thead>\n",
       "    <tr style=\"text-align: right;\">\n",
       "      <th></th>\n",
       "      <th>Bairro</th>\n",
       "      <th>Regiao</th>\n",
       "    </tr>\n",
       "  </thead>\n",
       "  <tbody>\n",
       "    <tr>\n",
       "      <th>120</th>\n",
       "      <td>Catete</td>\n",
       "      <td>Zona Sul</td>\n",
       "    </tr>\n",
       "  </tbody>\n",
       "</table>\n",
       "</div>"
      ],
      "text/plain": [
       "     Bairro    Regiao\n",
       "120  Catete  Zona Sul"
      ]
     },
     "execution_count": 509,
     "metadata": {},
     "output_type": "execute_result"
    }
   ],
   "source": [
    "limite_bairros[limite_bairros.Bairro.str.contains('Catete')]"
   ]
  },
  {
   "cell_type": "code",
   "execution_count": 511,
   "id": "fcc986fd",
   "metadata": {},
   "outputs": [],
   "source": [
    "# Criando um Dicionário para preencher os dados ausentes (busca realizada no Google)\n",
    "\n",
    "dic_bairros = {'Jardim Oceânico':'Barra da Tijuca',\n",
    "            'Península':'Barra da Tijuca',\n",
    "            'Ilha do Governador':'Ilha do Governador',\n",
    "            'Oswaldo Cruz':'Madureira',\n",
    "            'Fátima':'Centro',\n",
    "            'Braz de Pina':'Penha',\n",
    "            'Arpoador':'Ipanema',\n",
    "            'Icaraí':'Centro',\n",
    "            'Largo do Machado':'Zona Sul',\n",
    "            'Freguesia (Ilha do Governador)':'Ilha do Governador',\n",
    "            'Turiaçu':'Madureira',\n",
    "            'Usina':'Tijuca',\n",
    "            'Cachamorra':'Campo Grande',\n",
    "            'Rio da Prata':'Campo Grande',\n",
    "            'Cidade Jardim':'Jacarepaguá'\n",
    "              }"
   ]
  },
  {
   "cell_type": "code",
   "execution_count": 512,
   "id": "bdb29ecf",
   "metadata": {},
   "outputs": [
    {
     "data": {
      "text/plain": [
       "Int64Index([], dtype='int64')"
      ]
     },
     "execution_count": 512,
     "metadata": {},
     "output_type": "execute_result"
    }
   ],
   "source": [
    "# Valores nulos\n",
    "\n",
    "df_bairros[df_bairros.Regiao.isnull()==True]['Regiao'].index"
   ]
  },
  {
   "cell_type": "code",
   "execution_count": 514,
   "id": "4f8d5d78",
   "metadata": {},
   "outputs": [],
   "source": [
    "lista_nulos = [18, 20, 47, 49, 78, 83, 111, 114, 122, 124, 128, 133, 140, 149,150]\n",
    "\n",
    "for valor in range(len(lista_nulos)):\n",
    "    preencher = df_bairros.Bairro[lista_nulos[valor]]\n",
    "    df_bairros['Regiao'][lista_nulos[valor]] = dic_bairros[preencher]\n"
   ]
  },
  {
   "cell_type": "code",
   "execution_count": 515,
   "id": "6c5ec0c3",
   "metadata": {},
   "outputs": [
    {
     "data": {
      "text/html": [
       "<div>\n",
       "<style scoped>\n",
       "    .dataframe tbody tr th:only-of-type {\n",
       "        vertical-align: middle;\n",
       "    }\n",
       "\n",
       "    .dataframe tbody tr th {\n",
       "        vertical-align: top;\n",
       "    }\n",
       "\n",
       "    .dataframe thead th {\n",
       "        text-align: right;\n",
       "    }\n",
       "</style>\n",
       "<table border=\"1\" class=\"dataframe\">\n",
       "  <thead>\n",
       "    <tr style=\"text-align: right;\">\n",
       "      <th></th>\n",
       "      <th>Bairro</th>\n",
       "      <th>Regiao</th>\n",
       "    </tr>\n",
       "  </thead>\n",
       "  <tbody>\n",
       "    <tr>\n",
       "      <th>18</th>\n",
       "      <td>Jardim Oceânico</td>\n",
       "      <td>Barra da Tijuca</td>\n",
       "    </tr>\n",
       "    <tr>\n",
       "      <th>20</th>\n",
       "      <td>Península</td>\n",
       "      <td>Barra da Tijuca</td>\n",
       "    </tr>\n",
       "    <tr>\n",
       "      <th>47</th>\n",
       "      <td>Ilha do Governador</td>\n",
       "      <td>Ilha do Governador</td>\n",
       "    </tr>\n",
       "    <tr>\n",
       "      <th>49</th>\n",
       "      <td>Oswaldo Cruz</td>\n",
       "      <td>Madureira</td>\n",
       "    </tr>\n",
       "    <tr>\n",
       "      <th>78</th>\n",
       "      <td>Fátima</td>\n",
       "      <td>Centro</td>\n",
       "    </tr>\n",
       "    <tr>\n",
       "      <th>83</th>\n",
       "      <td>Braz de Pina</td>\n",
       "      <td>Penha</td>\n",
       "    </tr>\n",
       "    <tr>\n",
       "      <th>111</th>\n",
       "      <td>Arpoador</td>\n",
       "      <td>Ipanema</td>\n",
       "    </tr>\n",
       "    <tr>\n",
       "      <th>114</th>\n",
       "      <td>Icaraí</td>\n",
       "      <td>Centro</td>\n",
       "    </tr>\n",
       "    <tr>\n",
       "      <th>122</th>\n",
       "      <td>Largo do Machado</td>\n",
       "      <td>Zona Sul</td>\n",
       "    </tr>\n",
       "    <tr>\n",
       "      <th>124</th>\n",
       "      <td>Freguesia (Ilha do Governador)</td>\n",
       "      <td>Ilha do Governador</td>\n",
       "    </tr>\n",
       "    <tr>\n",
       "      <th>128</th>\n",
       "      <td>Turiaçu</td>\n",
       "      <td>Madureira</td>\n",
       "    </tr>\n",
       "    <tr>\n",
       "      <th>133</th>\n",
       "      <td>Usina</td>\n",
       "      <td>Tijuca</td>\n",
       "    </tr>\n",
       "    <tr>\n",
       "      <th>140</th>\n",
       "      <td>Cachamorra</td>\n",
       "      <td>Campo Grande</td>\n",
       "    </tr>\n",
       "    <tr>\n",
       "      <th>149</th>\n",
       "      <td>Rio da Prata</td>\n",
       "      <td>Campo Grande</td>\n",
       "    </tr>\n",
       "    <tr>\n",
       "      <th>150</th>\n",
       "      <td>Cidade Jardim</td>\n",
       "      <td>Jacarepaguá</td>\n",
       "    </tr>\n",
       "  </tbody>\n",
       "</table>\n",
       "</div>"
      ],
      "text/plain": [
       "                             Bairro              Regiao\n",
       "18                  Jardim Oceânico     Barra da Tijuca\n",
       "20                        Península     Barra da Tijuca\n",
       "47               Ilha do Governador  Ilha do Governador\n",
       "49                     Oswaldo Cruz           Madureira\n",
       "78                           Fátima              Centro\n",
       "83                     Braz de Pina               Penha\n",
       "111                        Arpoador             Ipanema\n",
       "114                          Icaraí              Centro\n",
       "122                Largo do Machado            Zona Sul\n",
       "124  Freguesia (Ilha do Governador)  Ilha do Governador\n",
       "128                         Turiaçu           Madureira\n",
       "133                           Usina              Tijuca\n",
       "140                      Cachamorra        Campo Grande\n",
       "149                    Rio da Prata        Campo Grande\n",
       "150                   Cidade Jardim         Jacarepaguá"
      ]
     },
     "execution_count": 515,
     "metadata": {},
     "output_type": "execute_result"
    }
   ],
   "source": [
    "# Conferindo o preenchimento de valores nulos\n",
    "\n",
    "df_bairros.iloc[lista_nulos,:]"
   ]
  },
  {
   "cell_type": "code",
   "execution_count": 516,
   "id": "fec4229b",
   "metadata": {},
   "outputs": [],
   "source": [
    "dados['Regiao'] = 0"
   ]
  },
  {
   "cell_type": "code",
   "execution_count": 517,
   "id": "2e07b7e7",
   "metadata": {},
   "outputs": [
    {
     "name": "stderr",
     "output_type": "stream",
     "text": [
      "C:\\Users\\rodri\\AppData\\Local\\Temp\\ipykernel_1400\\2556134370.py:3: SettingWithCopyWarning: \n",
      "A value is trying to be set on a copy of a slice from a DataFrame\n",
      "\n",
      "See the caveats in the documentation: https://pandas.pydata.org/pandas-docs/stable/user_guide/indexing.html#returning-a-view-versus-a-copy\n",
      "  dados['Regiao'][nome] = df_bairros.Regiao[linha]\n"
     ]
    }
   ],
   "source": [
    "for nome in range(len(dados)):\n",
    "    linha = df_bairros[df_bairros.Bairro == dados.Bairro[nome]].index[0]\n",
    "    dados['Regiao'][nome] = df_bairros.Regiao[linha]\n"
   ]
  },
  {
   "cell_type": "code",
   "execution_count": 470,
   "id": "479d1dd5",
   "metadata": {},
   "outputs": [
    {
     "data": {
      "image/png": "[encoded data removed]",
      "text/plain": [
       "<Figure size 432x288 with 1 Axes>"
      ]
     },
     "metadata": {
      "needs_background": "light"
     },
     "output_type": "display_data"
    }
   ],
   "source": [
    "dados.groupby('Regiao').mean()['Valor_m2'].sort_values().plot(kind='barh');"
   ]
  },
  {
   "cell_type": "markdown",
   "id": "2f493d7b",
   "metadata": {},
   "source": [
    "### Salvando Base de Dados"
   ]
  },
  {
   "cell_type": "code",
   "execution_count": 520,
   "id": "d4e90ff1",
   "metadata": {},
   "outputs": [],
   "source": [
    "dados.to_csv('Dados/aluguel_residencial_09.csv', sep=';', index=False)"
   ]
  }
 ],
 "metadata": {
  "kernelspec": {
   "display_name": "Python 3 (ipykernel)",
   "language": "python",
   "name": "python3"
  },
  "language_info": {
   "codemirror_mode": {
    "name": "ipython",
    "version": 3
   },
   "file_extension": ".py",
   "mimetype": "text/x-python",
   "name": "python",
   "nbconvert_exporter": "python",
   "pygments_lexer": "ipython3",
   "version": "3.9.12"
  }
 },
 "nbformat": 4,
 "nbformat_minor": 5
}
